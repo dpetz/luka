{
 "cells": [
  {
   "cell_type": "code",
   "execution_count": 75,
   "metadata": {},
   "outputs": [
    {
     "name": "stdout",
     "output_type": "stream",
     "text": [
      "***********\n",
      "***********\n",
      "***********\n",
      "***********\n",
      "***********\n",
      "***********\n",
      "***********\n",
      "***********\n",
      "***********\n",
      "***********\n",
      "***********\n"
     ]
    }
   ],
   "source": [
    "FELS = '*'\n",
    "\n",
    "def wuerfeln(seiten):\n",
    "    from random import randrange\n",
    "    return randrange(1,seiten+1)\n",
    "\n",
    "def ob_mauer(anteil_fels):\n",
    "    if (wuerfeln(100)<=anteil_mauer):\n",
    "        return FELS\n",
    "    else:\n",
    "        return \" \"\n",
    "    \n",
    "def lang(lab):\n",
    "    len(lab)\n",
    "\n",
    "def breit(lab):\n",
    "    len(lab[0])\n",
    "    \n",
    "def malen(lab):\n",
    "    for reihe in lab:\n",
    "        print(''.join(reihe))\n",
    "        \n",
    "def berg(reihen,spalten):\n",
    "    return [ [ MAUER for spalte in range(0,spalten)]\n",
    "            for reihe in range(0,reihen) ] \n",
    "\n",
    "laby = fels(11,11)\n",
    "\n",
    "malen(laby)"
   ]
  },
  {
   "cell_type": "code",
   "execution_count": 76,
   "metadata": {},
   "outputs": [
    {
     "name": "stdout",
     "output_type": "stream",
     "text": [
      "***********\n",
      "***********\n",
      "***********\n",
      "***********\n",
      "***********\n",
      "***********\n",
      "***********\n",
      "***********\n",
      "***********\n",
      "***********\n",
      "***** *****\n"
     ]
    }
   ],
   "source": [
    "GANG = ' '\n",
    "\n",
    "def graben(troll,berg):\n",
    "    berg[troll[0]][troll[1]] = GANG\n",
    "\n",
    "berg = berg(11,11)\n",
    "troll = (10,5)\n",
    "graben(troll,berg)\n",
    "malen(berg)"
   ]
  },
  {
   "cell_type": "code",
   "execution_count": 74,
   "metadata": {},
   "outputs": [],
   "source": [
    "HOCH = (0,-1)\n",
    "RUNTER = (0,1)\n",
    "LINKS = (-1,0)\n",
    "RECHTS = (1,0)\n",
    "\n",
    "REIHE = 0\n",
    "SPALTE = 1\n",
    "\n",
    "RICHTUNGEN = [HOCH, RUNTER, LINKS, RECHTS]\n",
    "\n",
    "wuerfeln(4)\n",
    "\n",
    "def bewege(richtung,ort):\n",
    "    return (ort[REIHE] - richtung[REIHE],\n",
    "            ort[SPALTE] - richtung[SPALTE])\n",
    "    \n",
    "    \n",
    "def im_berg(ort,berg):\n",
    "    if ort[REIHE] < 0:\n",
    "        return False\n",
    "    if ort[REIHE] >= reihen(berg):\n",
    "        return False\n",
    "    if (ort[SPALTEN]) < 0:\n",
    "        return False\n",
    "    if (ort[SPALTEN]) >= spalten(berg):\n",
    "        return False\n",
    "    return True\n",
    "\n",
    "def ist_fels(ort,berg):\n",
    "    if not im_berg(ort,berg):\n",
    "        return False\n",
    "    return berg[ort[REIHE]][ort[SPALTE]]\n",
    "\n",
    "def freie_seiten(ort,berg):\n",
    "    frei = 0\n",
    "    for seite in RICHTUNGEN:\n",
    "        if ist_fels(bewege(seite,ort)):\n",
    "            frei = frei + 1\n",
    "    \n",
    "\n",
    "def entscheide(troll,berg,versuche):\n",
    "    for versuch in range(0,versuche):\n",
    "        neu = bewege(RICHTUNGEN(wuerfeln(4)),troll)\n",
    "        if ist_fels(neu,berg):\n",
    "            if(freie_seiten(neu,berg) == 1):\n",
    "               return neu\n",
    "    return None\n",
    "    \n",
    "    "
   ]
  },
  {
   "cell_type": "code",
   "execution_count": 79,
   "metadata": {},
   "outputs": [
    {
     "data": {
      "text/plain": [
       "10"
      ]
     },
     "execution_count": 79,
     "metadata": {},
     "output_type": "execute_result"
    }
   ],
   "source": [
    "len(laby[0])"
   ]
  },
  {
   "cell_type": "code",
   "execution_count": null,
   "metadata": {},
   "outputs": [],
   "source": []
  },
  {
   "cell_type": "code",
   "execution_count": 29,
   "metadata": {},
   "outputs": [],
   "source": []
  },
  {
   "cell_type": "code",
   "execution_count": 7,
   "metadata": {},
   "outputs": [
    {
     "data": {
      "text/plain": [
       "['o', ' ', ' ', ' ', ' ', ' ', ' ', ' ', ' ', 'o']"
      ]
     },
     "execution_count": 7,
     "metadata": {},
     "output_type": "execute_result"
    }
   ],
   "source": []
  },
  {
   "cell_type": "code",
   "execution_count": 30,
   "metadata": {},
   "outputs": [],
   "source": []
  },
  {
   "cell_type": "code",
   "execution_count": 9,
   "metadata": {},
   "outputs": [
    {
     "data": {
      "text/plain": [
       "[['o', 'o', 'o', 'o', 'o', 'o', 'o', 'o', 'o', 'o'],\n",
       " ['o', ' ', ' ', ' ', ' ', ' ', ' ', ' ', ' ', 'o'],\n",
       " ['o', ' ', ' ', ' ', ' ', ' ', ' ', ' ', ' ', 'o'],\n",
       " ['o', ' ', ' ', ' ', ' ', ' ', ' ', ' ', ' ', 'o'],\n",
       " ['o', ' ', ' ', ' ', ' ', ' ', ' ', ' ', ' ', 'o'],\n",
       " ['o', ' ', ' ', ' ', ' ', ' ', ' ', ' ', ' ', 'o'],\n",
       " ['o', ' ', ' ', ' ', ' ', ' ', ' ', ' ', ' ', 'o'],\n",
       " ['o', ' ', ' ', ' ', ' ', ' ', ' ', ' ', ' ', 'o'],\n",
       " ['o', 'o', 'o', 'o', 'o', 'o', 'o', 'o', 'o', 'o']]"
      ]
     },
     "execution_count": 9,
     "metadata": {},
     "output_type": "execute_result"
    }
   ],
   "source": [
    "laby"
   ]
  },
  {
   "cell_type": "code",
   "execution_count": 19,
   "metadata": {},
   "outputs": [
    {
     "name": "stdout",
     "output_type": "stream",
     "text": [
      "[['o', 'o', 'o', 'o', 'o', 'o', 'o', 'o', 'o', 'o'], ['o', ' ', ' ', ' ', ' ', ' ', ' ', ' ', ' ', 'o'], ['o', ' ', ' ', ' ', ' ', ' ', ' ', ' ', ' ', 'o'], ['o', ' ', ' ', ' ', ' ', ' ', ' ', ' ', ' ', 'o'], ['o', ' ', ' ', ' ', ' ', ' ', ' ', ' ', ' ', 'o'], ['o', ' ', ' ', ' ', ' ', ' ', ' ', ' ', ' ', 'o'], ['o', ' ', ' ', ' ', ' ', ' ', ' ', ' ', ' ', 'o'], ['o', ' ', ' ', ' ', ' ', ' ', ' ', ' ', ' ', 'o'], ['o', 'o', 'o', 'o', 'o', 'o', 'o', 'o', 'o', 'o']]\n"
     ]
    }
   ],
   "source": [
    "print(laby)"
   ]
  },
  {
   "cell_type": "code",
   "execution_count": null,
   "metadata": {},
   "outputs": [],
   "source": []
  },
  {
   "cell_type": "code",
   "execution_count": 25,
   "metadata": {},
   "outputs": [],
   "source": []
  },
  {
   "cell_type": "code",
   "execution_count": 23,
   "metadata": {},
   "outputs": [],
   "source": []
  },
  {
   "cell_type": "code",
   "execution_count": 35,
   "metadata": {},
   "outputs": [
    {
     "name": "stdout",
     "output_type": "stream",
     "text": [
      "**********\n",
      "*        *\n",
      "*        *\n",
      "*        *\n",
      "*        *\n",
      "*        *\n",
      "*        *\n",
      "*        *\n",
      "**********\n"
     ]
    }
   ],
   "source": [
    "labyrinth_malen(laby)"
   ]
  },
  {
   "cell_type": "code",
   "execution_count": 51,
   "metadata": {},
   "outputs": [],
   "source": []
  },
  {
   "cell_type": "code",
   "execution_count": 57,
   "metadata": {},
   "outputs": [],
   "source": [
    "zufall(40)"
   ]
  },
  {
   "cell_type": "code",
   "execution_count": null,
   "metadata": {},
   "outputs": [],
   "source": []
  }
 ],
 "metadata": {
  "kernelspec": {
   "display_name": "Python 3",
   "language": "python",
   "name": "python3"
  },
  "language_info": {
   "codemirror_mode": {
    "name": "ipython",
    "version": 3
   },
   "file_extension": ".py",
   "mimetype": "text/x-python",
   "name": "python",
   "nbconvert_exporter": "python",
   "pygments_lexer": "ipython3",
   "version": "3.6.6"
  }
 },
 "nbformat": 4,
 "nbformat_minor": 2
}

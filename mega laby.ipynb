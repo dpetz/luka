{
 "cells": [
  {
   "cell_type": "code",
   "execution_count": 5,
   "metadata": {
    "pycharm": {}
   },
   "outputs": [
    {
     "ename": "SyntaxError",
     "evalue": "invalid syntax (laby.py, line 34)",
     "output_type": "error",
     "traceback": [
      "Traceback \u001b[0;36m(most recent call last)\u001b[0m:\n",
      "  File \u001b[1;32m\"/Users/dpetzoldt/anaconda3/lib/python3.6/site-packages/IPython/core/interactiveshell.py\"\u001b[0m, line \u001b[1;32m2961\u001b[0m, in \u001b[1;35mrun_code\u001b[0m\n    exec(code_obj, self.user_global_ns, self.user_ns)\n",
      "\u001b[0;36m  File \u001b[0;32m\"<ipython-input-5-14e8e4eadd92>\"\u001b[0;36m, line \u001b[0;32m3\u001b[0;36m, in \u001b[0;35m<module>\u001b[0;36m\u001b[0m\n\u001b[0;31m    import laby\u001b[0m\n",
      "\u001b[0;36m  File \u001b[0;32m\"/Users/dpetzoldt/git/home/luka/laby.py\"\u001b[0;36m, line \u001b[0;32m34\u001b[0m\n\u001b[0;31m    return [[MAUER for range(0, breit)] for range(0, hoch)]\u001b[0m\n\u001b[0m                                      ^\u001b[0m\n\u001b[0;31mSyntaxError\u001b[0m\u001b[0;31m:\u001b[0m invalid syntax\n"
     ]
    }
   ],
   "source": [
    "\n",
    "##%import laby.py\n",
    "import laby"
   ]
  },
  {
   "cell_type": "code",
   "execution_count": null,
   "metadata": {},
   "outputs": [],
   "source": [
    "lab = feld(11,11)\n",
    "malen(laby)"
   ]
  },
  {
   "cell_type": "code",
   "execution_count": 76,
   "metadata": {
    "pycharm": {}
   },
   "outputs": [
    {
     "name": "stdout",
     "output_type": "stream",
     "text": [
      "***********\n",
      "***********\n",
      "***********\n",
      "***********\n",
      "***********\n",
      "***********\n",
      "***********\n",
      "***********\n",
      "***********\n",
      "***********\n",
      "***** *****\n"
     ]
    }
   ],
   "source": [
    "GANG = ' '\n",
    "\n",
    "def graben(troll,berg):\n",
    "    berg[troll[0]][troll[1]] = GANG\n",
    "\n",
    "berg = berg(11,11)\n",
    "troll = (10,5)\n",
    "graben(troll,berg)\n",
    "malen(berg)"
   ]
  },
  {
   "cell_type": "code",
   "execution_count": 74,
   "metadata": {
    "pycharm": {}
   },
   "outputs": [],
   "source": [
    "HOCH = (0,-1)\n",
    "RUNTER = (0,1)\n",
    "LINKS = (-1,0)\n",
    "RECHTS = (1,0)\n",
    "\n",
    "REIHE = 0\n",
    "SPALTE = 1\n",
    "\n",
    "RICHTUNGEN = [HOCH, RUNTER, LINKS, RECHTS]\n",
    "\n",
    "wuerfeln(4)\n",
    "\n",
    "def bewege(richtung,ort):\n",
    "    return (ort[REIHE] - richtung[REIHE],\n",
    "            ort[SPALTE] - richtung[SPALTE])\n",
    "    \n",
    "    \n",
    "def im_berg(feld,brett):\n",
    "    if feld[REIHE] < 0:\n",
    "        return False\n",
    "    if feld[REIHE] >= tief(feld):\n",
    "        return False\n",
    "    if (feld[SPALTE]) < 0:\n",
    "        return False\n",
    "    if (feld[SPALTE]) >= breit(feld):\n",
    "        return False\n",
    "    return True\n",
    "\n",
    "def ist_fels(feld,brett):\n",
    "    if not im_berg(feld,brett):\n",
    "        return False\n",
    "    return berg[ort[REIHE]][ort[SPALTE]]\n",
    "\n",
    "def freie_seiten(ort,berg):\n",
    "    frei = 0\n",
    "    for seite in RICHTUNGEN:\n",
    "        if ist_fels(bewege(seite,ort)):\n",
    "            frei = frei + 1\n",
    "    \n",
    "\n",
    "def entscheide(troll,berg,versuche):\n",
    "    for versuch in range(0,versuche):\n",
    "        neu = bewege(RICHTUNGEN(wuerfeln(4)),troll)\n",
    "        if ist_fels(neu,berg):\n",
    "            if(freie_seiten(neu,berg) == 1):\n",
    "               return neu\n",
    "    return None\n",
    "    \n",
    "    "
   ]
  },
  {
   "cell_type": "code",
   "execution_count": 79,
   "metadata": {
    "pycharm": {}
   },
   "outputs": [
    {
     "data": {
      "text/plain": [
       "10"
      ]
     },
     "execution_count": 79,
     "metadata": {},
     "output_type": "execute_result"
    }
   ],
   "source": [
    "len(laby[0])"
   ]
  },
  {
   "cell_type": "code",
   "execution_count": null,
   "metadata": {
    "pycharm": {}
   },
   "outputs": [],
   "source": []
  },
  {
   "cell_type": "code",
   "execution_count": 29,
   "metadata": {
    "pycharm": {}
   },
   "outputs": [],
   "source": []
  },
  {
   "cell_type": "code",
   "execution_count": 7,
   "metadata": {
    "pycharm": {}
   },
   "outputs": [
    {
     "data": {
      "text/plain": [
       "['o', ' ', ' ', ' ', ' ', ' ', ' ', ' ', ' ', 'o']"
      ]
     },
     "execution_count": 7,
     "metadata": {},
     "output_type": "execute_result"
    }
   ],
   "source": []
  },
  {
   "cell_type": "code",
   "execution_count": 30,
   "metadata": {
    "pycharm": {}
   },
   "outputs": [],
   "source": []
  },
  {
   "cell_type": "code",
   "execution_count": 9,
   "metadata": {
    "pycharm": {}
   },
   "outputs": [
    {
     "data": {
      "text/plain": [
       "[['o', 'o', 'o', 'o', 'o', 'o', 'o', 'o', 'o', 'o'],\n",
       " ['o', ' ', ' ', ' ', ' ', ' ', ' ', ' ', ' ', 'o'],\n",
       " ['o', ' ', ' ', ' ', ' ', ' ', ' ', ' ', ' ', 'o'],\n",
       " ['o', ' ', ' ', ' ', ' ', ' ', ' ', ' ', ' ', 'o'],\n",
       " ['o', ' ', ' ', ' ', ' ', ' ', ' ', ' ', ' ', 'o'],\n",
       " ['o', ' ', ' ', ' ', ' ', ' ', ' ', ' ', ' ', 'o'],\n",
       " ['o', ' ', ' ', ' ', ' ', ' ', ' ', ' ', ' ', 'o'],\n",
       " ['o', ' ', ' ', ' ', ' ', ' ', ' ', ' ', ' ', 'o'],\n",
       " ['o', 'o', 'o', 'o', 'o', 'o', 'o', 'o', 'o', 'o']]"
      ]
     },
     "execution_count": 9,
     "metadata": {},
     "output_type": "execute_result"
    }
   ],
   "source": [
    "laby"
   ]
  },
  {
   "cell_type": "code",
   "execution_count": 19,
   "metadata": {
    "pycharm": {}
   },
   "outputs": [
    {
     "name": "stdout",
     "output_type": "stream",
     "text": [
      "[['o', 'o', 'o', 'o', 'o', 'o', 'o', 'o', 'o', 'o'], ['o', ' ', ' ', ' ', ' ', ' ', ' ', ' ', ' ', 'o'], ['o', ' ', ' ', ' ', ' ', ' ', ' ', ' ', ' ', 'o'], ['o', ' ', ' ', ' ', ' ', ' ', ' ', ' ', ' ', 'o'], ['o', ' ', ' ', ' ', ' ', ' ', ' ', ' ', ' ', 'o'], ['o', ' ', ' ', ' ', ' ', ' ', ' ', ' ', ' ', 'o'], ['o', ' ', ' ', ' ', ' ', ' ', ' ', ' ', ' ', 'o'], ['o', ' ', ' ', ' ', ' ', ' ', ' ', ' ', ' ', 'o'], ['o', 'o', 'o', 'o', 'o', 'o', 'o', 'o', 'o', 'o']]\n"
     ]
    }
   ],
   "source": [
    "print(laby)"
   ]
  },
  {
   "cell_type": "code",
   "execution_count": null,
   "metadata": {
    "pycharm": {}
   },
   "outputs": [],
   "source": []
  },
  {
   "cell_type": "code",
   "execution_count": 25,
   "metadata": {
    "pycharm": {}
   },
   "outputs": [],
   "source": []
  },
  {
   "cell_type": "code",
   "execution_count": 23,
   "metadata": {
    "pycharm": {}
   },
   "outputs": [],
   "source": []
  },
  {
   "cell_type": "code",
   "execution_count": 35,
   "metadata": {
    "pycharm": {}
   },
   "outputs": [
    {
     "name": "stdout",
     "output_type": "stream",
     "text": [
      "**********\n",
      "*        *\n",
      "*        *\n",
      "*        *\n",
      "*        *\n",
      "*        *\n",
      "*        *\n",
      "*        *\n",
      "**********\n"
     ]
    }
   ],
   "source": [
    "labyrinth_malen(laby)"
   ]
  },
  {
   "cell_type": "code",
   "execution_count": 51,
   "metadata": {
    "pycharm": {}
   },
   "outputs": [],
   "source": []
  },
  {
   "cell_type": "code",
   "execution_count": 57,
   "metadata": {
    "pycharm": {}
   },
   "outputs": [],
   "source": [
    "zufall(40)"
   ]
  },
  {
   "cell_type": "code",
   "execution_count": null,
   "metadata": {
    "pycharm": {}
   },
   "outputs": [],
   "source": []
  }
 ],
 "metadata": {
  "kernelspec": {
   "display_name": "Python 3",
   "language": "python",
   "name": "python3"
  },
  "language_info": {
   "codemirror_mode": {
    "name": "ipython",
    "version": 3
   },
   "file_extension": ".py",
   "mimetype": "text/x-python",
   "name": "python",
   "nbconvert_exporter": "python",
   "pygments_lexer": "ipython3",
   "version": "3.6.8"
  }
 },
 "nbformat": 4,
 "nbformat_minor": 2
}
